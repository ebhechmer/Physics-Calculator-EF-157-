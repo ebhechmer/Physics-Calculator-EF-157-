{
 "cells": [
  {
   "cell_type": "code",
   "execution_count": 33,
   "id": "4c569787-f202-4df6-874d-88dccb858534",
   "metadata": {},
   "outputs": [
    {
     "name": "stdin",
     "output_type": "stream",
     "text": [
      "How many numbers are in the dataset? 8\n",
      "Please enter one of the numbers in the dataset. 1.79\n",
      "Please enter one of the numbers in the dataset. 2.01\n",
      "Please enter one of the numbers in the dataset. 1.88\n",
      "Please enter one of the numbers in the dataset. 1.69\n",
      "Please enter one of the numbers in the dataset. 1.98\n",
      "Please enter one of the numbers in the dataset. 1.88\n",
      "Please enter one of the numbers in the dataset. 2.16\n",
      "Please enter one of the numbers in the dataset. 1.79\n"
     ]
    }
   ],
   "source": [
    "# calculate the standard deviation of a dataset\n",
    "import math\n",
    "\n",
    "total_numbers = int(input(\"How many numbers are in the dataset?\"))\n",
    "\n",
    "data_set = []\n",
    "\n",
    "for i in range(total_numbers):\n",
    "    data_set.append(float(input(\"Please enter one of the numbers in the dataset.\")))\n",
    "\n",
    "total = 0\n",
    "for num in data_set:\n",
    "    total += num\n",
    "\n",
    "mean = total / total_numbers"
   ]
  },
  {
   "cell_type": "code",
   "execution_count": 34,
   "id": "6f49df1f-76ab-4029-b4d6-cc82b4f08c2c",
   "metadata": {
    "tags": []
   },
   "outputs": [
    {
     "name": "stdout",
     "output_type": "stream",
     "text": [
      "0) Standard Deviation\n",
      "1) Variance\n",
      "2) Coefficient of Variation\n",
      "3) Mean\n"
     ]
    },
    {
     "name": "stdin",
     "output_type": "stream",
     "text": [
      "Which would you like to calculate? 0\n"
     ]
    },
    {
     "name": "stdout",
     "output_type": "stream",
     "text": [
      "0) Population\n",
      "1) Sample\n"
     ]
    },
    {
     "name": "stdin",
     "output_type": "stream",
     "text": [
      "Which would you like to calculate? 1\n"
     ]
    },
    {
     "name": "stdout",
     "output_type": "stream",
     "text": [
      "--------------------\n",
      "The standard deviation is 0.14887674672119122.\n",
      "--------------------\n",
      "0) Yes\n",
      "1) No\n"
     ]
    },
    {
     "name": "stdin",
     "output_type": "stream",
     "text": [
      "Would you like to continue? 0\n"
     ]
    },
    {
     "name": "stdout",
     "output_type": "stream",
     "text": [
      "0) Standard Deviation\n",
      "1) Variance\n",
      "2) Coefficient of Variation\n",
      "3) Mean\n"
     ]
    },
    {
     "name": "stdin",
     "output_type": "stream",
     "text": [
      "Which would you like to calculate? 3\n"
     ]
    },
    {
     "name": "stdout",
     "output_type": "stream",
     "text": [
      "--------------------\n",
      "The mean is 1.8975.\n",
      "--------------------\n",
      "0) Yes\n",
      "1) No\n"
     ]
    },
    {
     "name": "stdin",
     "output_type": "stream",
     "text": [
      "Would you like to continue? 1\n"
     ]
    }
   ],
   "source": [
    "cont = True\n",
    "while (cont):\n",
    "    print(\"0) Standard Deviation\")\n",
    "    print(\"1) Variance\")\n",
    "    print(\"2) Coefficient of Variation\")\n",
    "    print(\"3) Mean\")\n",
    "    choice = int(input(\"Which would you like to calculate?\"))\n",
    "    \n",
    "    if(choice == 0):\n",
    "        while True:\n",
    "            print(\"0) Population\")\n",
    "            print(\"1) Sample\")\n",
    "            s_or_p = int(input(\"Which would you like to calculate?\"))\n",
    "            s_d_tot = 0\n",
    "            for num in data_set:\n",
    "                s_d_tot += (num-mean)**2\n",
    "            if (s_or_p == 0):\n",
    "                print(\"-\"*20)\n",
    "                print(f\"The standard deviation is {math.sqrt((s_d_tot / total_numbers))}.\")\n",
    "                print(\"-\"*20)\n",
    "                break\n",
    "            elif (s_or_p == 1):\n",
    "                print(\"-\"*20)\n",
    "                print(f\"The standard deviation is {math.sqrt((s_d_tot / (total_numbers-1)))}.\")\n",
    "                print(\"-\"*20)\n",
    "                break\n",
    "            else:\n",
    "                print(\"That is not a valid option\")\n",
    "    elif (choice == 1):\n",
    "        while True:\n",
    "            print(\"0) Population\")\n",
    "            print(\"1) Sample\")\n",
    "            s_or_p = int(input(\"Which would you like to calculate?\"))\n",
    "            s_d_tot = 0\n",
    "            for num in data_set:\n",
    "                s_d_tot += (num-mean)**2\n",
    "            if (s_or_p == 0):\n",
    "                print(\"-\"*20)\n",
    "                print(f\"The variance is {(s_d_tot / total_numbers)}.\")\n",
    "                print(\"-\"*20)\n",
    "                break\n",
    "            elif (s_or_p == 1):\n",
    "                print(\"-\"*20)\n",
    "                print(f\"The variance is {(s_d_tot / (total_numbers-1))}.\")\n",
    "                print(\"-\"*20)\n",
    "                break\n",
    "            else:\n",
    "                print(\"That is not a valid option\")\n",
    "    \n",
    "    elif (choice == 2):\n",
    "        while True:\n",
    "            print(\"0) Population\")\n",
    "            print(\"1) Sample\")\n",
    "            s_or_p = int(input(\"Which would you like to calculate?\"))\n",
    "            s_d_tot = 0\n",
    "            for num in data_set:\n",
    "                s_d_tot += (num-mean)**2\n",
    "            if (s_or_p == 0):\n",
    "                print(\"-\"*20)\n",
    "                print(f\"The coefficient of variation is {(math.sqrt((s_d_tot / total_numbers)))/mean}.\")\n",
    "                print(\"-\"*20)\n",
    "                break\n",
    "            elif (s_or_p == 1):\n",
    "                print(\"-\"*20)\n",
    "                print(f\"The coefficient of variation is {(math.sqrt((s_d_tot / (total_numbers-1))))/mean}.\")\n",
    "                print(\"-\"*20)\n",
    "                break\n",
    "            else:\n",
    "                print(\"That is not a valid option\")\n",
    "    \n",
    "    elif (choice == 3):\n",
    "        print(\"-\"*20)\n",
    "        print(f\"The mean is {mean}.\")\n",
    "        print(\"-\"*20)\n",
    "    \n",
    "    else:\n",
    "        print(\"That is not a valid option.\")\n",
    "    \n",
    "    print(\"0) Yes\")\n",
    "    print(\"1) No\")\n",
    "    next = int(input(\"Would you like to continue?\"))\n",
    "    \n",
    "    if next == 1:\n",
    "        cont = False\n",
    "            "
   ]
  },
  {
   "cell_type": "code",
   "execution_count": null,
   "id": "8e306c13-a041-4cba-98eb-6e5cce6759ff",
   "metadata": {},
   "outputs": [],
   "source": []
  }
 ],
 "metadata": {
  "kernelspec": {
   "display_name": "Python 3 (ipykernel)",
   "language": "python",
   "name": "python3"
  },
  "language_info": {
   "codemirror_mode": {
    "name": "ipython",
    "version": 3
   },
   "file_extension": ".py",
   "mimetype": "text/x-python",
   "name": "python",
   "nbconvert_exporter": "python",
   "pygments_lexer": "ipython3",
   "version": "3.9.12"
  }
 },
 "nbformat": 4,
 "nbformat_minor": 5
}
